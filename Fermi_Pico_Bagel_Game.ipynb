{
  "nbformat": 4,
  "nbformat_minor": 0,
  "metadata": {
    "colab": {
      "name": "Fermi Pico Game.ipynb",
      "provenance": [],
      "collapsed_sections": []
    },
    "kernelspec": {
      "name": "python3",
      "display_name": "Python 3"
    }
  },
  "cells": [
    {
      "cell_type": "code",
      "metadata": {
        "id": "Vg3DZ3IoRaxx"
      },
      "source": [
        "# Function that returns list containing digts of entered number\r\n",
        "def list_digit(num) : \r\n",
        "  lst = []\r\n",
        "  for i in range(len(num)) :\r\n",
        "    #print(num[i],end='  ')\r\n",
        "    lst.append(int(num[i]))\r\n",
        "  return(lst)\r\n"
      ],
      "execution_count": null,
      "outputs": []
    },
    {
      "cell_type": "code",
      "metadata": {
        "id": "tP6rTuwAEdnU"
      },
      "source": [
        "# Function to check entered number contains repeated digits or not \r\n",
        "def check_mult(lst) : \r\n",
        "  digit1 = lst[0] \r\n",
        "  if lst.count(digit1)>1 : \r\n",
        "    return(-1)\r\n",
        "  digit2 = lst[1] \r\n",
        "  if lst.count(digit2)>1 : \r\n",
        "    return(-1)\r\n",
        "  return(1)"
      ],
      "execution_count": null,
      "outputs": []
    },
    {
      "cell_type": "code",
      "metadata": {
        "id": "KOFszRrAeydU"
      },
      "source": [
        "def fermi_pico_bagel(o_lst,en_lst) : \r\n",
        "  f = p = 0\r\n",
        "  for i in range(3) :\r\n",
        "    digit = en_lst[i] \r\n",
        "    if digit not in o_lst :\r\n",
        "      continue \r\n",
        "    else : \r\n",
        "      if i == o_lst.index(digit) :\r\n",
        "        f = f+1 \r\n",
        "      else : \r\n",
        "        p = p+1\r\n",
        "  return f,p\r\n"
      ],
      "execution_count": null,
      "outputs": []
    },
    {
      "cell_type": "code",
      "metadata": {
        "colab": {
          "base_uri": "https://localhost:8080/"
        },
        "id": "jmAPwDlJ-qRX",
        "outputId": "d16f37a1-42ee-4e3c-94f5-0cfa2d981211"
      },
      "source": [
        "#To generate 3 digit random number\r\n",
        "\r\n",
        "import random\r\n",
        "while True : \r\n",
        "  num = random.randint(100,999)\r\n",
        "  print('Original Number : ',num)\r\n",
        "  lst = list_digit(str(num))\r\n",
        "  print('List of Number : ',lst)\r\n",
        "\r\n",
        "  # Checking whether number generated contains repeated digits or not\r\n",
        "  proceed = check_mult(lst) \r\n",
        "  if proceed == -1 : \r\n",
        "    continue \r\n",
        "  \r\n",
        "  break \r\n",
        "    "
      ],
      "execution_count": null,
      "outputs": [
        {
          "output_type": "stream",
          "text": [
            "Original Number :  493\n",
            "List of Number :  [4, 9, 3]\n"
          ],
          "name": "stdout"
        }
      ]
    },
    {
      "cell_type": "code",
      "metadata": {
        "id": "QdJzRIf8CZLc"
      },
      "source": [
        "#Actual Execution of Program\r\n",
        "from IPython.display import clear_output\r\n",
        "\r\n",
        "while True :\r\n",
        "  data = input('Enter a 3 Digit Number (To Give Up enter Q): ')\r\n",
        "  if data == 'Q' : \r\n",
        "    print('Number was : ',num)\r\n",
        "    break\r\n",
        "  #checking whether entered data is num or not\r\n",
        "  try :\r\n",
        "    data = int(data)\r\n",
        "  except : \r\n",
        "    print('Invalid Input re-enter')\r\n",
        "    continue\r\n",
        "   \r\n",
        "  print('Entered Number : ',data)\r\n",
        "  o_lst = list_digit(str(data))\r\n",
        "  #print('List of Digits : ',o_lst)\r\n",
        "\r\n",
        "  # Checking whether entered number is 3 digit or not\r\n",
        "  if(len(o_lst) != 3) :\r\n",
        "    print('Invalid Input : Enter 3 Digit Number')\r\n",
        "    continue\r\n",
        "\r\n",
        "  # Checking whether entered number contains repeated digits or not\r\n",
        "  proceed = check_mult(o_lst)\r\n",
        "  if proceed == -1 :\r\n",
        "    print('Invalid Input : Contains repeated digits')\r\n",
        "    continue \r\n",
        "  \r\n",
        "  clear_output()\r\n",
        "  # Displaying result\r\n",
        "  fm , pi = fermi_pico_bagel(lst,o_lst)\r\n",
        "  if (fm == 0) and (pi == 0) : \r\n",
        "    print('Result : Bagel') \r\n",
        "  elif (fm == 3) and (pi == 0) : \r\n",
        "    print('Result :','Fermi '*3,'!!!!')\r\n",
        "    break \r\n",
        "  else : \r\n",
        "    print('Result :','Fermi '*fm,'Pico '*pi)\r\n",
        "\r\n",
        "  "
      ],
      "execution_count": null,
      "outputs": []
    }
  ]
}